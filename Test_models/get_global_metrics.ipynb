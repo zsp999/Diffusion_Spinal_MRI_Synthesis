{
 "cells": [
  {
   "cell_type": "code",
   "execution_count": 11,
   "metadata": {},
   "outputs": [],
   "source": [
    "import numpy as np\n",
    "import pandas as pd\n",
    "import matplotlib.pyplot as plt\n",
    "import seaborn as sns\n",
    "import random\n",
    "import os\n",
    "import datetime\n",
    "from tqdm import tqdm\n",
    "from PIL import Image\n",
    "\n",
    "import torch\n",
    "import torch.nn as nn\n",
    "\n",
    "from torch import optim\n",
    "from torch.utils.data import Dataset, DataLoader\n",
    "import sys \n",
    "sys.path.append(\"..\") \n",
    "from model.dataset import *\n",
    "\n",
    "from skimage.metrics import structural_similarity as ssim\n",
    "from skimage.metrics import peak_signal_noise_ratio as psnr\n",
    "from skimage.metrics import mean_squared_error as mse\n",
    "from skimage.metrics import normalized_root_mse as nrmse\n",
    "from skimage.filters import threshold_otsu, threshold_multiotsu\n",
    "from sklearn.metrics import roc_auc_score\n",
    "from scipy.stats import wilcoxon"
   ]
  },
  {
   "cell_type": "markdown",
   "metadata": {},
   "source": [
    "使用8bit图像 0-255\n",
    "计算AUC\n",
    "最后还是用老照片，没有用随机数\n",
    "MSE计算前先除以255"
   ]
  },
  {
   "cell_type": "code",
   "execution_count": 12,
   "metadata": {},
   "outputs": [],
   "source": [
    "# otsu法，分为四类，取亮度最大的一类作为阈值\n",
    "def auc_img(fake_img, true_img, classes = 4): \n",
    "    # 0-255的256@256图片\n",
    "    thresholds = threshold_multiotsu(true_img, classes=classes)\n",
    "    binary = np.array(true_img >= thresholds[-1])\n",
    "    return roc_auc_score(binary.flatten(), fake_img.flatten()/255)\n",
    "\n",
    "def cal_metric(fake_img, target_img):\n",
    "    #    fake_img, target_img = renorm(fake_img), renorm(target_img)\n",
    "       AUC = auc_img(target_img, fake_img)\n",
    "       MSE = mse(target_img/255, fake_img/255) #MSE计算前先除以255\n",
    "       SSIM = ssim(target_img, fake_img) #, data_range=1 \n",
    "       PSNR = psnr(target_img, fake_img) #, data_range=1\n",
    "    #    NRMSE = nrmse(target_img, fake_img) \n",
    "       return AUC, MSE, SSIM, PSNR"
   ]
  },
  {
   "cell_type": "code",
   "execution_count": 13,
   "metadata": {},
   "outputs": [
    {
     "name": "stderr",
     "output_type": "stream",
     "text": [
      "100%|██████████| 203/203 [00:11<00:00, 17.42it/s]\n",
      "100%|██████████| 2712/2712 [08:12<00:00,  5.51it/s]\n"
     ]
    }
   ],
   "source": [
    "def get_gloabl_metrics():\n",
    "    truth_dir = \"./DiffusionSpinalMRISynthesis/results_output_pictures/Ground_True_imgs_test_spinal/\"\n",
    "    pix2pix_dir = \"./DiffusionSpinalMRISynthesis/results_output_pictures/1228_pix2pix_500epoch_test_spinal/\"\n",
    "    diff_dir = \"./DiffusionSpinalMRISynthesis/results_output_pictures/1130_diffusion_500epoch_test_spinal\" #老的结果\n",
    "    # diff_dir = \"./DiffusionSpinalMRISynthesis/results_output_pictures/1229_diffusion_randomseed666_500epoch_test_spinal_16ddim/\"\n",
    "\n",
    "    patients_id = os.listdir(diff_dir)\n",
    "    df_diff_metrics = pd.DataFrame({'AUC':[], 'MSE':[], 'SSIM':[], 'PSNR':[]})\n",
    "    df_pix2pix_metrics = pd.DataFrame({'AUC':[], 'MSE':[], 'SSIM':[], 'PSNR':[]})\n",
    "    truth_imgs, diff_imgs, pix2pix_imgs =  [], [], []\n",
    "    for patient in tqdm(patients_id):\n",
    "        # print('patient:', patient)\n",
    "        truth_patient_dir = os.path.join(truth_dir, patient)\n",
    "        truth_imgs.extend([np.array(Image.open(os.path.join(truth_patient_dir, file))) for file in os.listdir(truth_patient_dir)])\n",
    "\n",
    "        diff_patient_dir = os.path.join(diff_dir, patient)\n",
    "        diff_imgs.extend([np.array(Image.open(os.path.join(diff_patient_dir, file)))[:,256:] for file in os.listdir(diff_patient_dir)])\n",
    "\n",
    "        pix2pix_patient_dir = os.path.join(pix2pix_dir, patient)\n",
    "        pix2pix_imgs.extend([np.array(Image.open(os.path.join(pix2pix_patient_dir, file))) for file in os.listdir(pix2pix_patient_dir)])\n",
    "    # return truth_imgs, diff_imgs, pix2pix_imgs \n",
    "    for i in tqdm(range(len(truth_imgs))):\n",
    "        df_diff_metrics.loc[df_diff_metrics.shape[0], :] = [*cal_metric(diff_imgs[i], truth_imgs[i])]\n",
    "        df_pix2pix_metrics.loc[df_pix2pix_metrics.shape[0], :] = [*cal_metric(pix2pix_imgs[i], truth_imgs[i])]\n",
    "\n",
    "\n",
    "\n",
    "    return  df_diff_metrics, df_pix2pix_metrics\n",
    "\n",
    "df_diff_metrics, df_pix2pix_metrics = get_gloabl_metrics()"
   ]
  },
  {
   "cell_type": "code",
   "execution_count": 4,
   "metadata": {},
   "outputs": [
    {
     "data": {
      "text/html": [
       "<div>\n",
       "<style scoped>\n",
       "    .dataframe tbody tr th:only-of-type {\n",
       "        vertical-align: middle;\n",
       "    }\n",
       "\n",
       "    .dataframe tbody tr th {\n",
       "        vertical-align: top;\n",
       "    }\n",
       "\n",
       "    .dataframe thead th {\n",
       "        text-align: right;\n",
       "    }\n",
       "</style>\n",
       "<table border=\"1\" class=\"dataframe\">\n",
       "  <thead>\n",
       "    <tr style=\"text-align: right;\">\n",
       "      <th></th>\n",
       "      <th>ROI_rect_AUC</th>\n",
       "      <th>ROI_rect_MSE</th>\n",
       "      <th>ROI_rect_SSIM</th>\n",
       "      <th>ROI_rect_PSNR</th>\n",
       "      <th>ROI_rect_NRMSE</th>\n",
       "    </tr>\n",
       "  </thead>\n",
       "  <tbody>\n",
       "    <tr>\n",
       "      <th>0</th>\n",
       "      <td>0.985247</td>\n",
       "      <td>206.854294</td>\n",
       "      <td>0.840675</td>\n",
       "      <td>24.974158</td>\n",
       "      <td>0.0</td>\n",
       "    </tr>\n",
       "    <tr>\n",
       "      <th>1</th>\n",
       "      <td>0.977673</td>\n",
       "      <td>158.946487</td>\n",
       "      <td>0.798309</td>\n",
       "      <td>26.118294</td>\n",
       "      <td>0.0</td>\n",
       "    </tr>\n",
       "    <tr>\n",
       "      <th>2</th>\n",
       "      <td>0.979432</td>\n",
       "      <td>310.395721</td>\n",
       "      <td>0.772483</td>\n",
       "      <td>23.211646</td>\n",
       "      <td>0.0</td>\n",
       "    </tr>\n",
       "    <tr>\n",
       "      <th>3</th>\n",
       "      <td>0.978165</td>\n",
       "      <td>250.838379</td>\n",
       "      <td>0.825286</td>\n",
       "      <td>24.136864</td>\n",
       "      <td>0.0</td>\n",
       "    </tr>\n",
       "    <tr>\n",
       "      <th>4</th>\n",
       "      <td>0.983061</td>\n",
       "      <td>206.918152</td>\n",
       "      <td>0.811874</td>\n",
       "      <td>24.972818</td>\n",
       "      <td>0.0</td>\n",
       "    </tr>\n",
       "    <tr>\n",
       "      <th>...</th>\n",
       "      <td>...</td>\n",
       "      <td>...</td>\n",
       "      <td>...</td>\n",
       "      <td>...</td>\n",
       "      <td>...</td>\n",
       "    </tr>\n",
       "    <tr>\n",
       "      <th>2707</th>\n",
       "      <td>0.966604</td>\n",
       "      <td>249.849197</td>\n",
       "      <td>0.718879</td>\n",
       "      <td>24.154024</td>\n",
       "      <td>0.0</td>\n",
       "    </tr>\n",
       "    <tr>\n",
       "      <th>2708</th>\n",
       "      <td>0.973429</td>\n",
       "      <td>186.966919</td>\n",
       "      <td>0.770458</td>\n",
       "      <td>25.413156</td>\n",
       "      <td>0.0</td>\n",
       "    </tr>\n",
       "    <tr>\n",
       "      <th>2709</th>\n",
       "      <td>0.973338</td>\n",
       "      <td>163.957687</td>\n",
       "      <td>0.796141</td>\n",
       "      <td>25.983486</td>\n",
       "      <td>0.0</td>\n",
       "    </tr>\n",
       "    <tr>\n",
       "      <th>2710</th>\n",
       "      <td>0.969113</td>\n",
       "      <td>106.749344</td>\n",
       "      <td>0.824142</td>\n",
       "      <td>27.847151</td>\n",
       "      <td>0.0</td>\n",
       "    </tr>\n",
       "    <tr>\n",
       "      <th>2711</th>\n",
       "      <td>0.975189</td>\n",
       "      <td>91.639587</td>\n",
       "      <td>0.783861</td>\n",
       "      <td>28.509972</td>\n",
       "      <td>0.0</td>\n",
       "    </tr>\n",
       "  </tbody>\n",
       "</table>\n",
       "<p>2712 rows × 5 columns</p>\n",
       "</div>"
      ],
      "text/plain": [
       "      ROI_rect_AUC  ROI_rect_MSE  ROI_rect_SSIM  ROI_rect_PSNR  ROI_rect_NRMSE\n",
       "0         0.985247    206.854294       0.840675      24.974158             0.0\n",
       "1         0.977673    158.946487       0.798309      26.118294             0.0\n",
       "2         0.979432    310.395721       0.772483      23.211646             0.0\n",
       "3         0.978165    250.838379       0.825286      24.136864             0.0\n",
       "4         0.983061    206.918152       0.811874      24.972818             0.0\n",
       "...            ...           ...            ...            ...             ...\n",
       "2707      0.966604    249.849197       0.718879      24.154024             0.0\n",
       "2708      0.973429    186.966919       0.770458      25.413156             0.0\n",
       "2709      0.973338    163.957687       0.796141      25.983486             0.0\n",
       "2710      0.969113    106.749344       0.824142      27.847151             0.0\n",
       "2711      0.975189     91.639587       0.783861      28.509972             0.0\n",
       "\n",
       "[2712 rows x 5 columns]"
      ]
     },
     "execution_count": 4,
     "metadata": {},
     "output_type": "execute_result"
    }
   ],
   "source": [
    "df_diff_metrics"
   ]
  },
  {
   "cell_type": "code",
   "execution_count": 14,
   "metadata": {},
   "outputs": [
    {
     "data": {
      "text/plain": [
       "AUC      0.959480\n",
       "MSE      0.003487\n",
       "SSIM     0.787219\n",
       "PSNR    25.229222\n",
       "dtype: float64"
      ]
     },
     "execution_count": 14,
     "metadata": {},
     "output_type": "execute_result"
    }
   ],
   "source": [
    "df_pix2pix_metrics.mean()"
   ]
  },
  {
   "cell_type": "code",
   "execution_count": 15,
   "metadata": {},
   "outputs": [
    {
     "data": {
      "text/plain": [
       "AUC      0.976254\n",
       "MSE      0.003133\n",
       "SSIM     0.820024\n",
       "PSNR    27.095465\n",
       "dtype: float64"
      ]
     },
     "execution_count": 15,
     "metadata": {},
     "output_type": "execute_result"
    }
   ],
   "source": [
    "df_diff_metrics.mean()"
   ]
  },
  {
   "cell_type": "code",
   "execution_count": 16,
   "metadata": {},
   "outputs": [],
   "source": [
    "# 保存csv文件\n",
    "df_diff_metrics.to_csv(\"./DiffusionSpinalMRISynthesis/Test_models/metrics/Global_diff_pred_metrics_1231.csv\")\n",
    "df_pix2pix_metrics.to_csv(\"./DiffusionSpinalMRISynthesis/Test_models/metrics/Global_pix2pix_pred_metrics_1231.csv\")"
   ]
  },
  {
   "cell_type": "code",
   "execution_count": 17,
   "metadata": {},
   "outputs": [],
   "source": [
    "# 保存各项的均值\n",
    "# 病变区域最小外接矩形的SSIM PSNR AUC MSE NRMSE的均值和方差\n",
    "# 对于diff和pix2pix\n",
    "df_diff_sum = df_diff_metrics[['AUC', 'MSE', 'SSIM', 'PSNR']]\n",
    "df_diff_sum = pd.concat([df_diff_sum.mean(axis=0), df_diff_sum.std(axis=0)], axis=1).rename(columns={0:'diff_mean', 1:'diff_std'})\n",
    "df_pix2pix_sum = df_pix2pix_metrics[['AUC', 'MSE', 'SSIM', 'PSNR']]\n",
    "df_pix2pix_sum = pd.concat([df_pix2pix_sum.mean(axis=0), df_pix2pix_sum.std(axis=0)], axis=1).rename(columns={0:'pix2pix_mean', 1:'pix2pix_std'})\n",
    "\n",
    "df_diff_sum.to_csv(\"./DiffusionSpinalMRISynthesis/Test_models/metrics/Global_diff_sum_result_1231.csv\")\n",
    "df_pix2pix_sum.to_csv(\"./DiffusionSpinalMRISynthesis/Test_models/metrics/Global_pix2pix_sum_result_1231.csv\")"
   ]
  },
  {
   "cell_type": "code",
   "execution_count": 7,
   "metadata": {},
   "outputs": [
    {
     "data": {
      "text/plain": [
       "ROI_mean          127.397606\n",
       "ROI_std            38.502162\n",
       "backround_mean      2.629492\n",
       "backround_std       1.594099\n",
       "ROI_rect_AUC        0.942627\n",
       "ROI_rect_MSE      625.697222\n",
       "ROI_rect_SSIM       0.716417\n",
       "ROI_rect_PSNR      21.197603\n",
       "ROI_rect_NRMSE      0.244601\n",
       "ROI_SNR            51.900279\n",
       "dtype: float64"
      ]
     },
     "execution_count": 7,
     "metadata": {},
     "output_type": "execute_result"
    }
   ],
   "source": [
    "df_diff_metrics.iloc[:,:].mean(axis=0)"
   ]
  },
  {
   "cell_type": "code",
   "execution_count": 8,
   "metadata": {},
   "outputs": [
    {
     "data": {
      "text/plain": [
       "ROI_mean          111.790998\n",
       "ROI_std            32.293118\n",
       "backround_mean      0.661009\n",
       "backround_std       0.922590\n",
       "ROI_rect_AUC        0.866164\n",
       "ROI_rect_MSE      965.099802\n",
       "ROI_rect_SSIM       0.552505\n",
       "ROI_rect_PSNR      19.240086\n",
       "ROI_rect_NRMSE      0.301967\n",
       "ROI_SNR            65.293787\n",
       "dtype: float64"
      ]
     },
     "execution_count": 8,
     "metadata": {},
     "output_type": "execute_result"
    }
   ],
   "source": [
    "df_pix2pix_metrics.iloc[:,1:].mean(axis=0)"
   ]
  }
 ],
 "metadata": {
  "kernelspec": {
   "display_name": "py310_cv",
   "language": "python",
   "name": "python3"
  },
  "language_info": {
   "codemirror_mode": {
    "name": "ipython",
    "version": 3
   },
   "file_extension": ".py",
   "mimetype": "text/x-python",
   "name": "python",
   "nbconvert_exporter": "python",
   "pygments_lexer": "ipython3",
   "version": "3.10.13"
  }
 },
 "nbformat": 4,
 "nbformat_minor": 2
}
