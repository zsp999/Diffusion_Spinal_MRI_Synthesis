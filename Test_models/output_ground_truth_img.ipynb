{
 "cells": [
  {
   "cell_type": "code",
   "execution_count": 1,
   "metadata": {},
   "outputs": [],
   "source": [
    "import numpy as np\n",
    "import pandas as pd\n",
    "import matplotlib.pyplot as plt\n",
    "import seaborn as sns\n",
    "import random\n",
    "import os\n",
    "import datetime\n",
    "from tqdm import tqdm\n",
    "from PIL import Image\n",
    "\n",
    "import torch\n",
    "import torch.nn as nn\n",
    "\n",
    "from torch import optim\n",
    "from torch.utils.data import Dataset, DataLoader\n",
    "\n",
    "import sys \n",
    "sys.path.append(\"..\") \n",
    "from glob import glob\n",
    "from model.dataset import *"
   ]
  },
  {
   "cell_type": "code",
   "execution_count": 2,
   "metadata": {},
   "outputs": [],
   "source": [
    "spinal_test_dir = \"./DiffusionSpinalMRISynthesis/Data_MRI/test_spinal_MRI\"\n",
    "# test_onepatient_dataset = MRI_patient_Dataset_fortestpatient(dir_path=spinal_test_dir, patient_id=patient_id)\n",
    "\n",
    "output_path = \"./DiffusionSpinalMRISynthesis/results_output_pictures/Ground_True_imgs_test_spinal\"\n",
    "os.makedirs(output_path, exist_ok=True)\n",
    "\n",
    "def norm(imgdata):\n",
    "    layers, _, _ = imgdata.shape[0], imgdata.shape[1], imgdata.shape[2]\n",
    "    max_value = np.max(imgdata.reshape(layers,-1),axis=-1).reshape(layers,1,1)\n",
    "    min_value = np.min(imgdata.reshape(layers,-1),axis=-1).reshape(layers,1,1)\n",
    "    imgdata = (imgdata-min_value)/(max_value-min_value+1e-10)\n",
    "    imgdata = (255 * imgdata).astype(np.uint8) #转成int8\n",
    "    return imgdata\n",
    "\n",
    "def Ground_Trueimg_onepatient(patient_id, output_path=output_path):\n",
    "    spinal_test_dir = \"./DiffusionSpinalMRISynthesis//Data_MRI/test_spinal_MRI\"\n",
    "    fnames = glob(os.path.join(spinal_test_dir, '*'+patient_id+'*'))\n",
    "    test_onepatient_dataset = MRI_patient_Dataset_fortestpatient(dir_path=spinal_test_dir, patient_id=patient_id)\n",
    "\n",
    "    target_img = torch.concat([test_onepatient_dataset[i][3:,:,:].unsqueeze(dim=0) for i in range(len(test_onepatient_dataset))],dim=0)\n",
    "\n",
    "    \n",
    "    target_img = norm(target_img.detach().cpu().squeeze(dim=1).numpy())\n",
    "    output_img = target_img\n",
    "    patient_save_path = os.path.join(output_path, patient_id)\n",
    "    os.makedirs(patient_save_path, exist_ok=True)\n",
    "    for i in range(target_img.shape[0]):\n",
    "        img = Image.fromarray(output_img[i,:,:])\n",
    "        i_savepath = os.path.join(patient_save_path, patient_id+'_T1CE_groundTrue_'+fnames[i].split('_')[-1])\n",
    "        img.save(i_savepath)"
   ]
  },
  {
   "cell_type": "code",
   "execution_count": 3,
   "metadata": {},
   "outputs": [
    {
     "name": "stderr",
     "output_type": "stream",
     "text": [
      "100%|██████████| 203/203 [01:26<00:00,  2.35it/s]\n"
     ]
    }
   ],
   "source": [
    "patient_id_list = list(set([path.split('_')[0]+'_'+path.split('_')[1]+'_'+path.split('_')[2] for path in os.listdir(spinal_test_dir)]))\n",
    "for patient_id in tqdm(patient_id_list):\n",
    "    Ground_Trueimg_onepatient(patient_id = patient_id)"
   ]
  }
 ],
 "metadata": {
  "kernelspec": {
   "display_name": "py310_cv",
   "language": "python",
   "name": "python3"
  },
  "language_info": {
   "codemirror_mode": {
    "name": "ipython",
    "version": 3
   },
   "file_extension": ".py",
   "mimetype": "text/x-python",
   "name": "python",
   "nbconvert_exporter": "python",
   "pygments_lexer": "ipython3",
   "version": "3.10.13"
  }
 },
 "nbformat": 4,
 "nbformat_minor": 2
}
