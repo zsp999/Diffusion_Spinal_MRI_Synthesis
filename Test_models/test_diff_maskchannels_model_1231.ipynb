{
 "cells": [
  {
   "cell_type": "code",
   "execution_count": 1,
   "metadata": {},
   "outputs": [],
   "source": [
    "import numpy as np\n",
    "import pandas as pd\n",
    "import matplotlib.pyplot as plt\n",
    "import seaborn as sns\n",
    "import random\n",
    "import os\n",
    "import datetime\n",
    "from tqdm import tqdm\n",
    "from PIL import Image\n",
    "\n",
    "import torch\n",
    "import torch.nn as nn\n",
    "\n",
    "from torch import optim\n",
    "from torch.utils.data import Dataset, DataLoader\n",
    "import sys \n",
    "sys.path.append(\"..\") \n",
    "from model.dataset import *\n",
    "from model.GaussianDiffusion_new1228 import GaussianDiffusion #可以自己调\n",
    "\n",
    "from metrics_calculate import *"
   ]
  },
  {
   "cell_type": "markdown",
   "metadata": {},
   "source": [
    "看生成图片，定性描述"
   ]
  },
  {
   "cell_type": "code",
   "execution_count": 2,
   "metadata": {},
   "outputs": [
    {
     "name": "stdout",
     "output_type": "stream",
     "text": [
      "模型已加载\n"
     ]
    }
   ],
   "source": [
    "device = 'cuda:0'\n",
    "model_path = \"./DiffusionSpinalMRISynthesis/model_save/diffusion_model_mask_channels.pth\"\n",
    "net_G = torch.load(model_path, map_location=device)['model']\n",
    "# 这样可以固定随机数种子\n",
    "net_G = GaussianDiffusion(\n",
    "    image_size=256,\n",
    "    model = net_G.model,\n",
    "    timesteps = 1000,           # number of steps\n",
    "    sampling_timesteps = 16,    # using ddim for faster inference \n",
    "    objective = 'pred_v', #pred_v pred_x0崩 pred_noise\n",
    "\n",
    ").to(device)\n",
    "net_G.eval()\n",
    "print(\"模型已加载\")"
   ]
  },
  {
   "cell_type": "code",
   "execution_count": 3,
   "metadata": {},
   "outputs": [],
   "source": [
    "spinal_test_dir = \"./DiffusionSpinalMRISynthesis//Data_MRI/test_spinal_MRI\"\n",
    "test_spinal_dataset = MRI_patient_Dataset_fortest(dir_path=spinal_test_dir)\n",
    "test_spinal_dataloader = DataLoader(test_spinal_dataset, batch_size=64, shuffle=False, num_workers=16, pin_memory=True)\n",
    "\n",
    "def get_data_from_batch(batch_data: torch.Tensor, input_state, device= device):\n",
    "    img_input, img_target = batch_data[:,:3,:,:], batch_data[:,3:,:,:].cpu().detach()\n",
    "    if input_state == 0: #T1 T2 T2FS\n",
    "        pass\n",
    "    elif input_state == 1: #T1 T2\n",
    "        img_input[:,2,:,:] = 0\n",
    "    elif input_state == 2: #T1 T2FS\n",
    "        img_input[:,1,:,:] = 0\n",
    "    elif input_state == 3: #T2 T2FS\n",
    "        img_input[:,0,:,:] = 0\n",
    "    elif input_state == 4: #T1\n",
    "        img_input[:,1,:,:] = 0\n",
    "        img_input[:,2,:,:] = 0\n",
    "    elif input_state == 5: #T2\n",
    "        img_input[:,0,:,:] = 0\n",
    "        img_input[:,2,:,:] = 0\n",
    "    elif input_state == 6: #T2FS\n",
    "        img_input[:,0,:,:] = 0\n",
    "        img_input[:,1,:,:] = 0\n",
    "\n",
    "    return (img_input.to(device), img_target)\n",
    "\n",
    "def Test_model_metrics(net_G:GaussianDiffusion, test_dataloader, input_state):\n",
    "    MSE_imgs, SSIM_imgs, PSNR_imgs, NRMSE_imgs = [], [], [], []\n",
    "    print(f\"输入状态：{input_state}\")\n",
    "    net_G.eval()\n",
    "    for idx, batch_data in enumerate(test_dataloader, 1):\n",
    "        input_img, target_img = get_data_from_batch(batch_data, input_state)\n",
    "        with torch.no_grad():\n",
    "            fake_img = net_G.ddim_sample(shape =target_img.shape, \n",
    "                source_img = input_img.to(device), sampling_timesteps = 16).detach().cpu().numpy()\n",
    "        mse_list, ssim_list, psnr_list,  nrmse_list = cal_metric(fake_img, target_img.cpu().detach().numpy())\n",
    "        MSE_imgs.extend(mse_list)\n",
    "        SSIM_imgs.extend(ssim_list)\n",
    "        PSNR_imgs.extend(psnr_list)\n",
    "        NRMSE_imgs.extend(nrmse_list)\n",
    "    print(f\"MSE_imgs: {np.mean(MSE_imgs)}, SSIM_imgs: {np.mean(SSIM_imgs)}, PSNR_imgs: {np.mean(PSNR_imgs)}, NRMSE_imgs: {np.mean(NRMSE_imgs)}\")\n",
    "    metrics_mean_df = pd.DataFrame({\"MSE_imgs\": [np.mean(MSE_imgs)], \"SSIM_imgs\": [np.mean(SSIM_imgs)],\\\n",
    "     \"PSNR_imgs\": [np.mean(PSNR_imgs)], \"NRMSE_imgs\": [np.mean(NRMSE_imgs)]}, index=[f\"input_state_{input_state}\"])\n",
    "    metrics_df = {'MSE':MSE_imgs, 'SSIM': SSIM_imgs, 'PSNR':PSNR_imgs, 'NRMSE':NRMSE_imgs}\n",
    "    metrics_df = pd.DataFrame(metrics_df)\n",
    "    return metrics_mean_df, metrics_df\n",
    "\n",
    "def Test_model_metrics(net_G:GaussianDiffusion, test_dataloader, input_state):\n",
    "    df_metrics = {'AUC':[],'MSE':[], 'SSIM':[], 'PSNR':[]} #\n",
    "    # df_metrics = []\n",
    "    print(f\"输入状态：{input_state}\")\n",
    "    net_G.eval()\n",
    "    for idx, batch_data in enumerate(tqdm(test_dataloader), 1):\n",
    "        input_img, target_img = get_data_from_batch(batch_data, input_state)\n",
    "        with torch.no_grad():\n",
    "            fake_img = net_G.ddim_sample(shape =target_img.shape, source_img = input_img.to(device), \n",
    "                sampling_timesteps = 16, random_seed=42).squeeze(dim=1).detach().cpu().numpy()\n",
    "        # 在-1+1 maxminnorm计算全局指标\n",
    "        AUC, MSE, SSIM, PSNR= cal_metric_list(fake_img, target_img.squeeze(dim=1).numpy(), method='8bit', norm=True)\n",
    "        df_metrics['AUC'].extend(AUC)\n",
    "        df_metrics['MSE'].extend(MSE)\n",
    "        df_metrics['SSIM'].extend(SSIM)\n",
    "        df_metrics['PSNR'].extend(PSNR)\n",
    "        # df_metrics['NRMSE'].extend(NRMSE)\n",
    "        \n",
    "    df_metrics = pd.DataFrame(df_metrics)\n",
    "    df_metrics_sum = pd.concat([df_metrics.mean(axis=0), df_metrics.std(axis=0)], axis=1).rename(columns={0:f\"input_{input_state}_mean\", 1:f\"input_{input_state}_std\"}).T\n",
    "    print(df_metrics_sum)\n",
    "\n",
    "    return df_metrics, df_metrics_sum"
   ]
  },
  {
   "cell_type": "markdown",
   "metadata": {},
   "source": [
    "RMSE不是合适的指标！！！！！用MSE吧\n",
    "8bit norm\n",
    "AUC        0.976465\n",
    "MSE      216.410033\n",
    "SSIM       0.816135\n",
    "PSNR      27.058400\n",
    "NRMSE           inf\n",
    "dtype: float64\n"
   ]
  },
  {
   "cell_type": "code",
   "execution_count": 4,
   "metadata": {},
   "outputs": [],
   "source": [
    "def test_all_state_input(save_path=\"./DiffusionSpinalMRISynthesis/Test_models/metrics/\"):\n",
    "    metrics_mean_df_allstates = []\n",
    "    for i in range(7):\n",
    "        df_metrics, df_metrics_sum = Test_model_metrics(net_G, test_spinal_dataloader, i)\n",
    "        metrics_mean_df_allstates.append(df_metrics_sum)\n",
    "        df_metrics.to_csv(save_path+f\"1231_diffusion_maskchannels_metrics_state_input_randomseed42_{str(i)}.csv\")\n",
    "    metrics_mean_df_allstates= pd.concat(metrics_mean_df_allstates, axis=0)\n",
    "    metrics_mean_df_allstates.to_csv(save_path+\"diffusion_maskchannels_allstates_input_sum_1231.csv\")"
   ]
  },
  {
   "cell_type": "code",
   "execution_count": null,
   "metadata": {},
   "outputs": [],
   "source": [
    "test_all_state_input()"
   ]
  }
 ],
 "metadata": {
  "kernelspec": {
   "display_name": "py311",
   "language": "python",
   "name": "python3"
  },
  "language_info": {
   "codemirror_mode": {
    "name": "ipython",
    "version": 3
   },
   "file_extension": ".py",
   "mimetype": "text/x-python",
   "name": "python",
   "nbconvert_exporter": "python",
   "pygments_lexer": "ipython3",
   "version": "3.10.13"
  }
 },
 "nbformat": 4,
 "nbformat_minor": 2
}
